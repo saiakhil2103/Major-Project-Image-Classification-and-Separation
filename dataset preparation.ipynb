{
 "cells": [
  {
   "cell_type": "code",
   "execution_count": 1,
   "id": "adc6cd7c",
   "metadata": {},
   "outputs": [],
   "source": [
    "import os\n",
    "import numpy as np\n",
    "from PIL import Image\n",
    "from sklearn.model_selection import train_test_split\n",
    "from keras.utils import to_categorical\n",
    "import pickle"
   ]
  },
  {
   "cell_type": "code",
   "execution_count": 2,
   "id": "c4619d69",
   "metadata": {},
   "outputs": [],
   "source": [
    "dataset_path = \"dataset\""
   ]
  },
  {
   "cell_type": "code",
   "execution_count": 9,
   "id": "0d0e40d8",
   "metadata": {},
   "outputs": [],
   "source": [
    "features = []\n",
    "labels = []"
   ]
  },
  {
   "cell_type": "code",
   "execution_count": 10,
   "id": "0d889116",
   "metadata": {},
   "outputs": [],
   "source": [
    "for class_name in [\"circular\", \"handwritten\", \"printed\"]:\n",
    "    class_path = os.path.join(dataset_path, class_name)\n",
    "    for image_name in os.listdir(class_path):\n",
    "        image = Image.open(os.path.join(class_path, image_name))\n",
    "        image = image.convert(\"RGB\")\n",
    "        image = image.resize((256, 256))\n",
    "        image = np.array(image)\n",
    "        image = image / 255\n",
    "        image = np.expand_dims(image, axis=0)\n",
    "        features.append(image)\n",
    "        labels.append([\"circular\", \"handwritten\", \"printed\"].index(class_name))\n",
    "features = np.array(features)\n",
    "labels = np.array(labels)"
   ]
  },
  {
   "cell_type": "code",
   "execution_count": 11,
   "id": "2fecf2fd",
   "metadata": {},
   "outputs": [],
   "source": [
    "X_train, X_test, y_train, y_test = train_test_split(features, labels, test_size=0.2)"
   ]
  },
  {
   "cell_type": "code",
   "execution_count": 12,
   "id": "fdbc9f6d",
   "metadata": {},
   "outputs": [],
   "source": [
    "y_train = to_categorical(y_train)\n",
    "y_test = to_categorical(y_test)"
   ]
  },
  {
   "cell_type": "code",
   "execution_count": 13,
   "id": "aa72f559",
   "metadata": {},
   "outputs": [],
   "source": [
    "with open(\"X.pkl\", \"wb\") as file:\n",
    "    pickle.dump(features, file)"
   ]
  },
  {
   "cell_type": "code",
   "execution_count": 14,
   "id": "a34b358f",
   "metadata": {},
   "outputs": [],
   "source": [
    "with open(\"y.pkl\", \"wb\") as file:\n",
    "    pickle.dump(labels, file)"
   ]
  },
  {
   "cell_type": "code",
   "execution_count": null,
   "id": "8378f98f",
   "metadata": {},
   "outputs": [],
   "source": []
  }
 ],
 "metadata": {
  "kernelspec": {
   "display_name": "Python 3 (ipykernel)",
   "language": "python",
   "name": "python3"
  },
  "language_info": {
   "codemirror_mode": {
    "name": "ipython",
    "version": 3
   },
   "file_extension": ".py",
   "mimetype": "text/x-python",
   "name": "python",
   "nbconvert_exporter": "python",
   "pygments_lexer": "ipython3",
   "version": "3.9.13"
  }
 },
 "nbformat": 4,
 "nbformat_minor": 5
}
