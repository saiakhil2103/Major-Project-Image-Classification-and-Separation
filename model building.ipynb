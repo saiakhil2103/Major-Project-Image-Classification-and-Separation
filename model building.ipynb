{
 "cells": [
  {
   "cell_type": "code",
   "execution_count": 2,
   "id": "df3bef15",
   "metadata": {},
   "outputs": [],
   "source": [
    "import pickle\n",
    "from sklearn.model_selection import train_test_split\n",
    "from keras.utils import to_categorical\n",
    "import tensorflow as tf\n",
    "from tensorflow.keras.layers import Input, Conv2D, ReLU, MaxPooling2D, Flatten, Dense"
   ]
  },
  {
   "cell_type": "code",
   "execution_count": 3,
   "id": "2f068b34",
   "metadata": {},
   "outputs": [],
   "source": [
    "with open(\"X.pkl\", \"rb\") as file:\n",
    "    features = pickle.load(file)\n",
    "with open(\"y.pkl\", \"rb\") as file:\n",
    "    labels = pickle.load(file)"
   ]
  },
  {
   "cell_type": "code",
   "execution_count": 4,
   "id": "dd83cbb2",
   "metadata": {},
   "outputs": [],
   "source": [
    "X_train, X_test, y_train, y_test = train_test_split(features, labels, test_size=0.2, random_state=42)"
   ]
  },
  {
   "cell_type": "code",
   "execution_count": 5,
   "id": "2aad4cf6",
   "metadata": {},
   "outputs": [],
   "source": [
    "y_train = to_categorical(y_train)\n",
    "y_test = to_categorical(y_test)"
   ]
  },
  {
   "cell_type": "code",
   "execution_count": 6,
   "id": "7659042b",
   "metadata": {},
   "outputs": [],
   "source": [
    "X_train = X_train.reshape(len(X_train), 256, 256, 3)"
   ]
  },
  {
   "cell_type": "code",
   "execution_count": 7,
   "id": "829d9550",
   "metadata": {},
   "outputs": [],
   "source": [
    "X_test = X_test.reshape(len(X_test), 256, 256, 3)"
   ]
  },
  {
   "cell_type": "code",
   "execution_count": 18,
   "id": "eadca98a",
   "metadata": {},
   "outputs": [
    {
     "name": "stdout",
     "output_type": "stream",
     "text": [
      "Epoch 1/7\n",
      "10/10 [==============================] - 60s 6s/step - loss: 5.8315 - accuracy: 0.4131 - val_loss: 1.0815 - val_accuracy: 0.3636\n",
      "Epoch 2/7\n",
      "10/10 [==============================] - 53s 5s/step - loss: 1.0020 - accuracy: 0.4984 - val_loss: 0.8350 - val_accuracy: 0.6234\n",
      "Epoch 3/7\n",
      "10/10 [==============================] - 50s 5s/step - loss: 0.6946 - accuracy: 0.7770 - val_loss: 0.5439 - val_accuracy: 0.8831\n",
      "Epoch 4/7\n",
      "10/10 [==============================] - 54s 5s/step - loss: 0.3684 - accuracy: 0.8852 - val_loss: 0.3662 - val_accuracy: 0.9091\n",
      "Epoch 5/7\n",
      "10/10 [==============================] - 50s 5s/step - loss: 0.4034 - accuracy: 0.8787 - val_loss: 0.5365 - val_accuracy: 0.8701\n",
      "Epoch 6/7\n",
      "10/10 [==============================] - 47s 5s/step - loss: 0.2036 - accuracy: 0.9311 - val_loss: 0.2054 - val_accuracy: 0.9481\n",
      "Epoch 7/7\n",
      "10/10 [==============================] - 53s 5s/step - loss: 0.1026 - accuracy: 0.9705 - val_loss: 0.1591 - val_accuracy: 0.9740\n"
     ]
    },
    {
     "data": {
      "text/plain": [
       "<keras.callbacks.History at 0x241b3102b50>"
      ]
     },
     "execution_count": 18,
     "metadata": {},
     "output_type": "execute_result"
    }
   ],
   "source": [
    "# Define the input layer\n",
    "inputs = Input(shape=(256, 256, 3))\n",
    "\n",
    "# Define the first convolutional layer\n",
    "x = Conv2D(32, (3, 3), padding='same')(inputs)\n",
    "x = ReLU()(x)\n",
    "x = MaxPooling2D((2, 2))(x)\n",
    "\n",
    "# Define the second convolutional layer\n",
    "x = Conv2D(64, (3, 3), padding='same')(x)\n",
    "x = ReLU()(x)\n",
    "x = MaxPooling2D((2, 2))(x)\n",
    "\n",
    "# Define the third convolutional layer\n",
    "x = Conv2D(128, (3, 3), padding='same')(x)\n",
    "x = ReLU()(x)\n",
    "x = MaxPooling2D((2, 2))(x)\n",
    "\n",
    "# Flatten the output of the third convolutional layer\n",
    "x = Flatten()(x)\n",
    "\n",
    "# Define the first fully-connected layer\n",
    "x = Dense(512)(x)\n",
    "x = ReLU()(x)\n",
    "\n",
    "# Define the output layer\n",
    "outputs = Dense(3, activation='softmax')(x)\n",
    "\n",
    "# Create the model\n",
    "model = tf.keras.Model(inputs, outputs)\n",
    "\n",
    "# Compile the model with an optimizer and a loss function\n",
    "model.compile(optimizer='adam', loss='categorical_crossentropy', metrics=['accuracy'])\n",
    "\n",
    "# Train the model on the training set\n",
    "model.fit(X_train, y_train, epochs=7, batch_size=32, validation_data=(X_test, y_test))"
   ]
  },
  {
   "cell_type": "code",
   "execution_count": 19,
   "id": "ab6bb0ff",
   "metadata": {
    "scrolled": true
   },
   "outputs": [
    {
     "name": "stdout",
     "output_type": "stream",
     "text": [
      "3/3 [==============================] - 3s 886ms/step - loss: 0.1591 - accuracy: 0.9740\n",
      "0.9740259647369385\n",
      "0.15905259549617767\n"
     ]
    }
   ],
   "source": [
    "loss, accuracy = model.evaluate(X_test, y_test)\n",
    "print(accuracy)\n",
    "print(loss)"
   ]
  },
  {
   "cell_type": "code",
   "execution_count": 12,
   "id": "cd865513",
   "metadata": {},
   "outputs": [
    {
     "name": "stdout",
     "output_type": "stream",
     "text": [
      "Model: \"model\"\n",
      "_________________________________________________________________\n",
      " Layer (type)                Output Shape              Param #   \n",
      "=================================================================\n",
      " input_1 (InputLayer)        [(None, 256, 256, 3)]     0         \n",
      "                                                                 \n",
      " conv2d (Conv2D)             (None, 256, 256, 32)      896       \n",
      "                                                                 \n",
      " re_lu (ReLU)                (None, 256, 256, 32)      0         \n",
      "                                                                 \n",
      " max_pooling2d (MaxPooling2D  (None, 128, 128, 32)     0         \n",
      " )                                                               \n",
      "                                                                 \n",
      " conv2d_1 (Conv2D)           (None, 128, 128, 64)      18496     \n",
      "                                                                 \n",
      " re_lu_1 (ReLU)              (None, 128, 128, 64)      0         \n",
      "                                                                 \n",
      " max_pooling2d_1 (MaxPooling  (None, 64, 64, 64)       0         \n",
      " 2D)                                                             \n",
      "                                                                 \n",
      " conv2d_2 (Conv2D)           (None, 64, 64, 128)       73856     \n",
      "                                                                 \n",
      " re_lu_2 (ReLU)              (None, 64, 64, 128)       0         \n",
      "                                                                 \n",
      " max_pooling2d_2 (MaxPooling  (None, 32, 32, 128)      0         \n",
      " 2D)                                                             \n",
      "                                                                 \n",
      " flatten (Flatten)           (None, 131072)            0         \n",
      "                                                                 \n",
      " dense (Dense)               (None, 512)               67109376  \n",
      "                                                                 \n",
      " re_lu_3 (ReLU)              (None, 512)               0         \n",
      "                                                                 \n",
      " dense_1 (Dense)             (None, 3)                 1539      \n",
      "                                                                 \n",
      "=================================================================\n",
      "Total params: 67,204,163\n",
      "Trainable params: 67,204,163\n",
      "Non-trainable params: 0\n",
      "_________________________________________________________________\n"
     ]
    }
   ],
   "source": [
    "model.summary()"
   ]
  },
  {
   "cell_type": "code",
   "execution_count": 13,
   "id": "575b6638",
   "metadata": {},
   "outputs": [],
   "source": [
    "# for testing\n",
    "from PIL import Image\n",
    "import os\n",
    "import numpy as np"
   ]
  },
  {
   "cell_type": "code",
   "execution_count": 14,
   "id": "54a6b2a6",
   "metadata": {},
   "outputs": [],
   "source": [
    "# [\"circulars\", \"handwritten\", \"printed\"]\n",
    "dataset_path = \"I:\\\\akhil\\\\sem 7\\\\MAJOR PROJECT\\\\Dataset\"\n",
    "path = os.path.join(dataset_path, \"printed\")\n",
    "image = Image.open(os.path.join(path, \"printed (10).jpeg\"))\n",
    "image = image.convert(\"RGB\")\n",
    "image = image.resize((256, 256))\n",
    "image = np.array(image)\n",
    "image = image / 255\n",
    "image = np.expand_dims(image, axis=0)"
   ]
  },
  {
   "cell_type": "code",
   "execution_count": 15,
   "id": "f6df2736",
   "metadata": {},
   "outputs": [
    {
     "name": "stdout",
     "output_type": "stream",
     "text": [
      "1/1 [==============================] - 1s 590ms/step\n"
     ]
    },
    {
     "data": {
      "text/plain": [
       "'printed'"
      ]
     },
     "execution_count": 15,
     "metadata": {},
     "output_type": "execute_result"
    }
   ],
   "source": [
    "a = [\"circulars\", \"handwritten\", \"printed\"]\n",
    "result = model.predict([image])\n",
    "a[np.argmax(result)]"
   ]
  },
  {
   "cell_type": "code",
   "execution_count": null,
   "id": "960b6416",
   "metadata": {},
   "outputs": [],
   "source": []
  }
 ],
 "metadata": {
  "kernelspec": {
   "display_name": "Python 3 (ipykernel)",
   "language": "python",
   "name": "python3"
  },
  "language_info": {
   "codemirror_mode": {
    "name": "ipython",
    "version": 3
   },
   "file_extension": ".py",
   "mimetype": "text/x-python",
   "name": "python",
   "nbconvert_exporter": "python",
   "pygments_lexer": "ipython3",
   "version": "3.9.13"
  }
 },
 "nbformat": 4,
 "nbformat_minor": 5
}
