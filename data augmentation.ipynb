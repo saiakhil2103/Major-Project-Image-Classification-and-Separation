{
 "cells": [
  {
   "cell_type": "code",
   "execution_count": 1,
   "id": "cca7b48d",
   "metadata": {},
   "outputs": [],
   "source": [
    "import random\n",
    "import numpy as np\n",
    "import os\n",
    "from keras.preprocessing.image import ImageDataGenerator\n",
    "from keras.utils import array_to_img, img_to_array, load_img"
   ]
  },
  {
   "cell_type": "code",
   "execution_count": 2,
   "id": "07d00854",
   "metadata": {},
   "outputs": [],
   "source": [
    "def add_noise(img):\n",
    "    VARIABILITY = 50 \n",
    "    deviation = VARIABILITY * random.random()\n",
    "    noise = np.random.normal(0, deviation, img.shape)\n",
    "    img += noise\n",
    "    np.clip(img, 0., 255.)\n",
    "    return img"
   ]
  },
  {
   "cell_type": "code",
   "execution_count": 3,
   "id": "091eaf60",
   "metadata": {},
   "outputs": [],
   "source": [
    "datagen = ImageDataGenerator(\n",
    "    rescale = 1./255,\n",
    "    rotation_range = 40,\n",
    "    zoom_range = 0.2,\n",
    "    shear_range = 0.2,\n",
    "    fill_mode = \"nearest\",\n",
    "    preprocessing_function = add_noise\n",
    ")"
   ]
  },
  {
   "cell_type": "code",
   "execution_count": 6,
   "id": "c34e622c",
   "metadata": {},
   "outputs": [],
   "source": [
    "DATADIR = \"I:\\\\akhil\\\\sem 7\\\\MAJOR PROJECT\\\\Okay final one\\\\dataset\"\n",
    "CATEGORIES = [\"handwritten\"]"
   ]
  },
  {
   "cell_type": "code",
   "execution_count": 7,
   "id": "2452b6a6",
   "metadata": {},
   "outputs": [],
   "source": [
    "count = 0 \n",
    "for category in CATEGORIES:\n",
    "    path = os.path.join(DATADIR, category)\n",
    "    for img in os.listdir(path):\n",
    "        img_path = os.path.join(path, img)\n",
    "        curr = load_img(img_path)\n",
    "        x = img_to_array(curr)\n",
    "        x = x.reshape((1,) + x.shape)\n",
    "        i = 0\n",
    "        for batch in datagen.flow(x, batch_size=1, save_to_dir=\"augmentedimages\", save_prefix=\"circular\", save_format=\"jpeg\"):\n",
    "            i += 1 \n",
    "            count += 1 \n",
    "            if i >= 10:\n",
    "                break \n",
    "            if count >= 30:\n",
    "                break \n",
    "        if count >= 30:\n",
    "            break \n",
    "    if count >= 30:\n",
    "        break"
   ]
  },
  {
   "cell_type": "code",
   "execution_count": null,
   "id": "9fa22aa1",
   "metadata": {},
   "outputs": [],
   "source": []
  }
 ],
 "metadata": {
  "kernelspec": {
   "display_name": "Python 3 (ipykernel)",
   "language": "python",
   "name": "python3"
  },
  "language_info": {
   "codemirror_mode": {
    "name": "ipython",
    "version": 3
   },
   "file_extension": ".py",
   "mimetype": "text/x-python",
   "name": "python",
   "nbconvert_exporter": "python",
   "pygments_lexer": "ipython3",
   "version": "3.9.13"
  }
 },
 "nbformat": 4,
 "nbformat_minor": 5
}
